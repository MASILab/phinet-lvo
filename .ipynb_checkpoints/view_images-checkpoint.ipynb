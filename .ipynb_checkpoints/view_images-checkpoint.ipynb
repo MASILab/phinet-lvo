{
 "cells": [
  {
   "cell_type": "code",
   "execution_count": null,
   "metadata": {},
   "outputs": [],
   "source": [
    "%matplotlib inline\n",
    "%load_ext autoreload\n",
    "%autoreload 2\n",
    "import os\n",
    "os.environ['CUDA_VISIBLE_DEVICES'] = ''\n",
    "import tensorflow as tf\n",
    "from utils.tfrecord_utils import *\n",
    "import pandas as pd\n",
    "import matplotlib.pyplot as plt\n",
    "import matplotlib\n",
    "import seaborn as sns\n",
    "import numpy as np\n",
    "import nibabel as nib\n",
    "from tqdm import tqdm\n",
    "from pathlib import Path\n",
    "from PIL import Image\n",
    "import sys\n",
    "import shutil\n",
    "import itertools\n",
    "from collections import defaultdict\n",
    "from IPython import display\n",
    "import time"
   ]
  },
  {
   "cell_type": "code",
   "execution_count": null,
   "metadata": {},
   "outputs": [],
   "source": [
    "tick_size = 20\n",
    "\n",
    "sns.set(rc={\n",
    "    'figure.figsize':(10,10), \n",
    "    'font.size': 25, \n",
    "    \"axes.labelsize\":25, \n",
    "    \"xtick.labelsize\": tick_size, \n",
    "    \"ytick.labelsize\": tick_size,\n",
    "    'font.family':'serif',\n",
    "    'grid.linestyle': '',\n",
    "    'axes.facecolor': 'white',\n",
    "    'axes.edgecolor': '0.2',\n",
    "    'axes.spines.bottom': True,\n",
    "    'axes.spines.left': True,\n",
    "    'axes.spines.right': True,\n",
    "    'axes.spines.top': True,\n",
    "})\n",
    "\n",
    "palette = sns.color_palette(\"Set2\", n_colors=6, desat=1)"
   ]
  },
  {
   "cell_type": "markdown",
   "metadata": {},
   "source": [
    "# View Files"
   ]
  },
  {
   "cell_type": "code",
   "execution_count": null,
   "metadata": {},
   "outputs": [],
   "source": [
    "def anim_data(img_path, side_length):\n",
    "    img_vol = nib.load(img_path).get_fdata()\n",
    "\n",
    "    num_steps = img_vol.shape[2] // side_length**2\n",
    "    target_slices = list(range(0, img_vol.shape[2], num_steps))\n",
    "        \n",
    "    fig, axs = plt.subplots(side_length, side_length)\n",
    "    \n",
    "    k = 0\n",
    "    for i in range(side_length):\n",
    "        for j in range(side_length):\n",
    "            \n",
    "            axs[i, j].imshow(img_vol[:, :, target_slices[k]].T, cmap='Greys_r', vmin=0.0, vmax=255.0)\n",
    "            axs[i, j].set_xticks([])\n",
    "            axs[i, j].set_yticks([])\n",
    "            k += 1\n",
    "                \n",
    "    gap = 1e-4\n",
    "    plt.subplots_adjust(wspace=gap, hspace=gap)\n",
    "\n",
    "    display.display(plt.show())\n",
    "    display.clear_output(wait=True)\n",
    "    time.sleep(0.001)"
   ]
  },
  {
   "cell_type": "code",
   "execution_count": null,
   "metadata": {},
   "outputs": [],
   "source": [
    "FNAMES_PATH = Path(\"data/test_filenames.txt\")\n",
    "fnames = sorted(\n",
    "    set(fname.resolve() for fname in map(lambda l: Path(l.strip().split(',')[0]), open(FNAMES_PATH, 'r').readlines())),\n",
    "    key=lambda f: f.parts[-2],\n",
    ")"
   ]
  },
  {
   "cell_type": "code",
   "execution_count": null,
   "metadata": {},
   "outputs": [],
   "source": [
    "for fname in fnames:\n",
    "    anim_data(fname, 4)"
   ]
  },
  {
   "cell_type": "markdown",
   "metadata": {},
   "source": [
    "# View TFRecord"
   ]
  },
  {
   "cell_type": "code",
   "execution_count": null,
   "metadata": {},
   "outputs": [],
   "source": [
    "def anim_data(img_slice):\n",
    "    plt.imshow(img_slice.T, cmap='Greys_r')\n",
    "    plt.axis('off')\n",
    "    display.display(plt.show())\n",
    "    display.clear_output(wait=True)\n",
    "    time.sleep(0.001)"
   ]
  },
  {
   "cell_type": "code",
   "execution_count": null,
   "metadata": {},
   "outputs": [],
   "source": [
    "parse = lambda r: parse_into_slice(r, (256, 256), 6)\n",
    "ds = tf.data.TFRecordDataset('data/tfrecord_dir/dataset_fold_0_train.tfrecord')\\\n",
    "    .map(parse)"
   ]
  },
  {
   "cell_type": "code",
   "execution_count": null,
   "metadata": {
    "scrolled": true
   },
   "outputs": [],
   "source": [
    "for x, *y in ds:\n",
    "    anim_data(x.numpy()[:, :, 0])"
   ]
  },
  {
   "cell_type": "code",
   "execution_count": null,
   "metadata": {},
   "outputs": [],
   "source": []
  },
  {
   "cell_type": "code",
   "execution_count": null,
   "metadata": {},
   "outputs": [],
   "source": []
  },
  {
   "cell_type": "code",
   "execution_count": null,
   "metadata": {},
   "outputs": [],
   "source": []
  },
  {
   "cell_type": "code",
   "execution_count": null,
   "metadata": {},
   "outputs": [],
   "source": []
  },
  {
   "cell_type": "code",
   "execution_count": null,
   "metadata": {},
   "outputs": [],
   "source": []
  },
  {
   "cell_type": "code",
   "execution_count": null,
   "metadata": {},
   "outputs": [],
   "source": []
  },
  {
   "cell_type": "code",
   "execution_count": null,
   "metadata": {},
   "outputs": [],
   "source": [
    "def annot_figure(fname, num_figs, offset, title):\n",
    "    x = nib.load(fname).get_fdata()\n",
    "    \n",
    "    side = int(np.sqrt(num_figs))\n",
    "    fig, axs = plt.subplots(\n",
    "        side, \n",
    "        side,\n",
    "    )\n",
    "    spaced_slices_a = [80, 110, 140]#list(range(offset, x.shape[2]-offset, x.shape[2] // side))\n",
    "    spaced_slices_c = [80, 110, 140]#list(range(offset, x.shape[1]-offset, x.shape[1] // side))\n",
    "    spaced_slices_s = [80, 110, 140]#list(range(offset, x.shape[0]-offset, x.shape[0] // side))\n",
    "        \n",
    "    a_count = 0\n",
    "    c_count = 0\n",
    "    s_count = 0\n",
    "    for i in range(side):\n",
    "        for j in range(side):\n",
    "            \n",
    "            if j < (side / 3):\n",
    "                cur_slice = x[:, :, spaced_slices_a[a_count]].T\n",
    "                a_count += 1\n",
    "            elif j >= (side / 3) and j < (2 * side / 3):\n",
    "                cur_slice = x[:, spaced_slices_c[c_count], ::-1].T\n",
    "                c_count += 1\n",
    "            else:\n",
    "                cur_slice = x[spaced_slices_s[s_count], :, ::-1].T\n",
    "                s_count += 1\n",
    "                \n",
    "                \n",
    "            axs[i, j].imshow(cur_slice, cmap='Greys_r', vmin=0.0, vmax=255.0)\n",
    "            axs[i, j].set_xticks([])\n",
    "            axs[i, j].set_yticks([])\n",
    "    \n",
    "    gap = 1e-4\n",
    "    plt.subplots_adjust(wspace=gap, hspace=gap)\n",
    "    \n",
    "    #figure_name = fig_class_dir / \"annotated_montage_{}.png\".format(Path(row['filename']).stem.split('.')[0])\n",
    "    #plt.savefig(figure_name, bbox_inches=\"tight\")\n",
    "    \n",
    "    \n",
    "    \n",
    "    \n",
    "    #plt.suptitle(fname.name)\n",
    "    plt.suptitle(title)\n",
    "    plt.tight_layout()\n",
    "    #plt.show()\n",
    "    #plt.close()\n",
    "    \n",
    "    \n",
    "    display.display(plt.show())\n",
    "    display.clear_output(wait=True)\n",
    "    time.sleep(0.001)"
   ]
  },
  {
   "cell_type": "code",
   "execution_count": null,
   "metadata": {},
   "outputs": [],
   "source": [
    "FNAMES_PATH = Path(\"data/test_filenames.txt\")\n",
    "fnames = sorted(\n",
    "    set(fname.resolve() for fname in map(lambda l: Path(l.strip().split(',')[0]), open(FNAMES_PATH, 'r').readlines())),\n",
    "    key=lambda f: f.parts[-2],\n",
    ")"
   ]
  },
  {
   "cell_type": "code",
   "execution_count": null,
   "metadata": {},
   "outputs": [],
   "source": [
    "def fname_to_class(fname):\n",
    "    return fname.parts[-2]"
   ]
  },
  {
   "cell_type": "code",
   "execution_count": null,
   "metadata": {},
   "outputs": [],
   "source": [
    "fnames_by_class = {k: list(g) for k, g in itertools.groupby(fnames, fname_to_class)}"
   ]
  },
  {
   "cell_type": "code",
   "execution_count": null,
   "metadata": {},
   "outputs": [],
   "source": [
    "for k, v in fnames_by_class.items():\n",
    "    print(k, len(v))"
   ]
  },
  {
   "cell_type": "code",
   "execution_count": null,
   "metadata": {
    "scrolled": false
   },
   "outputs": [],
   "source": [
    "offset = 125\n",
    "for i, fname in enumerate(fnames_by_class['T1'][offset:]):\n",
    "    try:\n",
    "        annot_figure(fname, 9, 10, i + offset)\n",
    "    except KeyboardInterrupt:\n",
    "        try:\n",
    "            input()\n",
    "        except KeyboardInterrupt:\n",
    "            break\n",
    "        else:\n",
    "            annot_figure(fname, 9, 10, i + offset)\n",
    "        \n",
    "        "
   ]
  },
  {
   "cell_type": "code",
   "execution_count": null,
   "metadata": {
    "scrolled": false
   },
   "outputs": [],
   "source": [
    "n = 136\n",
    "fname = fnames_by_class['T1'][n]\n",
    "print(fname)\n",
    "annot_figure(fname, 9, 10, n)"
   ]
  },
  {
   "cell_type": "code",
   "execution_count": null,
   "metadata": {},
   "outputs": [],
   "source": []
  },
  {
   "cell_type": "code",
   "execution_count": null,
   "metadata": {},
   "outputs": [],
   "source": []
  },
  {
   "cell_type": "code",
   "execution_count": null,
   "metadata": {},
   "outputs": [],
   "source": []
  }
 ],
 "metadata": {
  "kernelspec": {
   "display_name": "Python 3",
   "language": "python",
   "name": "python3"
  },
  "language_info": {
   "codemirror_mode": {
    "name": "ipython",
    "version": 3
   },
   "file_extension": ".py",
   "mimetype": "text/x-python",
   "name": "python",
   "nbconvert_exporter": "python",
   "pygments_lexer": "ipython3",
   "version": "3.7.7"
  }
 },
 "nbformat": 4,
 "nbformat_minor": 2
}
